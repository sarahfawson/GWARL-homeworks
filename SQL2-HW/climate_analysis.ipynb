{
 "cells": [
  {
   "cell_type": "markdown",
   "metadata": {},
   "source": [
    "# Hawaii Climate Analysis\n",
    "\n",
    "Analyze the climate in Hawaii with Pandas and SQLAlchemy."
   ]
  },
  {
   "cell_type": "code",
   "execution_count": 2,
   "metadata": {},
   "outputs": [],
   "source": [
    "%matplotlib inline\n",
    "\n",
    "#dependencies\n",
    "from matplotlib import style\n",
    "style.use('fivethirtyeight')\n",
    "import matplotlib.pyplot as plt\n",
    "import numpy as np\n",
    "import pandas as pd\n",
    "import datetime as dt\n",
    "\n",
    "# Python SQL toolkit and Object Relational Mapper\n",
    "import sqlalchemy\n",
    "from sqlalchemy.ext.automap import automap_base\n",
    "from sqlalchemy.orm import Session\n",
    "from sqlalchemy import create_engine, func"
   ]
  },
  {
   "cell_type": "code",
   "execution_count": 3,
   "metadata": {},
   "outputs": [],
   "source": [
    "# set up SQLite DB\n",
    "engine = create_engine(\"sqlite:///Resources/hawaii.sqlite\")"
   ]
  },
  {
   "cell_type": "code",
   "execution_count": 4,
   "metadata": {},
   "outputs": [],
   "source": [
    "# reflect an existing database into a new model\n",
    "Base = automap_base()\n",
    "# reflect the tables\n",
    "Base.prepare(engine, reflect=True)"
   ]
  },
  {
   "cell_type": "code",
   "execution_count": 5,
   "metadata": {},
   "outputs": [
    {
     "data": {
      "text/plain": [
       "['measurement', 'station']"
      ]
     },
     "execution_count": 5,
     "metadata": {},
     "output_type": "execute_result"
    }
   ],
   "source": [
    "# view all classes that automap found\n",
    "Base.classes.keys()"
   ]
  },
  {
   "cell_type": "code",
   "execution_count": 6,
   "metadata": {},
   "outputs": [],
   "source": [
    "# Save references to each table\n",
    "Measurement = Base.classes.measurement\n",
    "Station = Base.classes.station"
   ]
  },
  {
   "cell_type": "code",
   "execution_count": 7,
   "metadata": {},
   "outputs": [],
   "source": [
    "# Create our session (link) from Python to the DB\n",
    "session = Session(engine)"
   ]
  },
  {
   "cell_type": "markdown",
   "metadata": {},
   "source": [
    "---\n",
    "## Exploratory Climate Analysis\n",
    "* Design a query to retrieve the last 12 months of precipitation data.\n",
    "* Select only the date and precipitation values.\n",
    "* Load the query results into a Pandas DataFrame.\n",
    "* Plot the results in a line graph.\n",
    "* Use Pandas to print the summary statistics for the precipitation data."
   ]
  },
  {
   "cell_type": "code",
   "execution_count": 8,
   "metadata": {},
   "outputs": [
    {
     "name": "stdout",
     "output_type": "stream",
     "text": [
      "('2017-08-23',)\n"
     ]
    }
   ],
   "source": [
    "# Retrieve the last 12 months of precipitation data by first setting up the date range\n",
    "recent_date = session.query(Measurement.date).order_by(Measurement.date.desc()).first()\n",
    "print(recent_date)"
   ]
  },
  {
   "cell_type": "code",
   "execution_count": 9,
   "metadata": {},
   "outputs": [
    {
     "name": "stdout",
     "output_type": "stream",
     "text": [
      "2016-08-23\n"
     ]
    }
   ],
   "source": [
    "# Calculate the date 1 year ago from recent_date\n",
    "one_year_ago = dt.date(2017,8,23) - dt.timedelta(days=365)\n",
    "print(one_year_ago)"
   ]
  },
  {
   "cell_type": "code",
   "execution_count": 10,
   "metadata": {},
   "outputs": [
    {
     "data": {
      "text/html": [
       "<div>\n",
       "<style scoped>\n",
       "    .dataframe tbody tr th:only-of-type {\n",
       "        vertical-align: middle;\n",
       "    }\n",
       "\n",
       "    .dataframe tbody tr th {\n",
       "        vertical-align: top;\n",
       "    }\n",
       "\n",
       "    .dataframe thead th {\n",
       "        text-align: right;\n",
       "    }\n",
       "</style>\n",
       "<table border=\"1\" class=\"dataframe\">\n",
       "  <thead>\n",
       "    <tr style=\"text-align: right;\">\n",
       "      <th></th>\n",
       "      <th>date</th>\n",
       "      <th>prcp</th>\n",
       "    </tr>\n",
       "  </thead>\n",
       "  <tbody>\n",
       "    <tr>\n",
       "      <th>0</th>\n",
       "      <td>2016-08-24</td>\n",
       "      <td>0.08</td>\n",
       "    </tr>\n",
       "    <tr>\n",
       "      <th>1</th>\n",
       "      <td>2016-08-24</td>\n",
       "      <td>2.15</td>\n",
       "    </tr>\n",
       "    <tr>\n",
       "      <th>2</th>\n",
       "      <td>2016-08-24</td>\n",
       "      <td>2.28</td>\n",
       "    </tr>\n",
       "    <tr>\n",
       "      <th>3</th>\n",
       "      <td>2016-08-24</td>\n",
       "      <td>NaN</td>\n",
       "    </tr>\n",
       "    <tr>\n",
       "      <th>4</th>\n",
       "      <td>2016-08-24</td>\n",
       "      <td>1.22</td>\n",
       "    </tr>\n",
       "  </tbody>\n",
       "</table>\n",
       "</div>"
      ],
      "text/plain": [
       "         date  prcp\n",
       "0  2016-08-24  0.08\n",
       "1  2016-08-24  2.15\n",
       "2  2016-08-24  2.28\n",
       "3  2016-08-24   NaN\n",
       "4  2016-08-24  1.22"
      ]
     },
     "execution_count": 10,
     "metadata": {},
     "output_type": "execute_result"
    }
   ],
   "source": [
    "# Query precipitation for the last year & sort by date\n",
    "precip = session.query(Measurement.date, Measurement.prcp).\\\n",
    "    filter(Measurement.date>one_year_ago).order_by(Measurement.date).all()\n",
    "\n",
    "# Save the query results as a Pandas DataFrame and set the index to the date column\n",
    "precip_df = pd.DataFrame(precip) \n",
    "precip_df.head()"
   ]
  },
  {
   "cell_type": "code",
   "execution_count": 72,
   "metadata": {},
   "outputs": [
    {
     "data": {
      "image/png": "[encoded data removed]",
      "text/plain": [
       "<Figure size 576x288 with 1 Axes>"
      ]
     },
     "metadata": {
      "needs_background": "light"
     },
     "output_type": "display_data"
    }
   ],
   "source": [
    "# Plot the data\n",
    "ax = precip_df.plot(figsize=(8,4))\n",
    "ax.set_title(\"Precipitation Analysis (8/23/16 to 8/23/17)\")\n",
    "ax.set_ylabel(\"Rainfall (inches)\")\n",
    "ax.set_xlabel(\"Date\")\n",
    "plt.legend([\"Precipitation\"])\n",
    "plt.savefig(\"Images/precip_analysis.png\")\n",
    "plt.show()"
   ]
  },
  {
   "cell_type": "code",
   "execution_count": 12,
   "metadata": {},
   "outputs": [
    {
     "data": {
      "text/html": [
       "<div>\n",
       "<style scoped>\n",
       "    .dataframe tbody tr th:only-of-type {\n",
       "        vertical-align: middle;\n",
       "    }\n",
       "\n",
       "    .dataframe tbody tr th {\n",
       "        vertical-align: top;\n",
       "    }\n",
       "\n",
       "    .dataframe thead th {\n",
       "        text-align: right;\n",
       "    }\n",
       "</style>\n",
       "<table border=\"1\" class=\"dataframe\">\n",
       "  <thead>\n",
       "    <tr style=\"text-align: right;\">\n",
       "      <th></th>\n",
       "      <th>prcp</th>\n",
       "    </tr>\n",
       "  </thead>\n",
       "  <tbody>\n",
       "    <tr>\n",
       "      <th>count</th>\n",
       "      <td>2015.000000</td>\n",
       "    </tr>\n",
       "    <tr>\n",
       "      <th>mean</th>\n",
       "      <td>0.176462</td>\n",
       "    </tr>\n",
       "    <tr>\n",
       "      <th>std</th>\n",
       "      <td>0.460288</td>\n",
       "    </tr>\n",
       "    <tr>\n",
       "      <th>min</th>\n",
       "      <td>0.000000</td>\n",
       "    </tr>\n",
       "    <tr>\n",
       "      <th>25%</th>\n",
       "      <td>0.000000</td>\n",
       "    </tr>\n",
       "    <tr>\n",
       "      <th>50%</th>\n",
       "      <td>0.020000</td>\n",
       "    </tr>\n",
       "    <tr>\n",
       "      <th>75%</th>\n",
       "      <td>0.130000</td>\n",
       "    </tr>\n",
       "    <tr>\n",
       "      <th>max</th>\n",
       "      <td>6.700000</td>\n",
       "    </tr>\n",
       "  </tbody>\n",
       "</table>\n",
       "</div>"
      ],
      "text/plain": [
       "              prcp\n",
       "count  2015.000000\n",
       "mean      0.176462\n",
       "std       0.460288\n",
       "min       0.000000\n",
       "25%       0.000000\n",
       "50%       0.020000\n",
       "75%       0.130000\n",
       "max       6.700000"
      ]
     },
     "execution_count": 12,
     "metadata": {},
     "output_type": "execute_result"
    }
   ],
   "source": [
    "# calcualte the summary statistics for the precipitation data\n",
    "precip_df.describe()"
   ]
  },
  {
   "cell_type": "markdown",
   "metadata": {},
   "source": [
    "---\n",
    "## Station Analysis\n",
    "* Design a query to calculate the total number of stations.\n",
    "* Design a query to find the most active stations.\n",
    "* List the stations and observation counts in descending order\n",
    "* Which station has the highest number of observations?\n",
    "* Design a query to retrieve the last 12 months of temperature observation data (tobs).\n",
    "* Filter by the station with the highest number of observations.\n",
    "* Plot the results as a histogram with bins=12."
   ]
  },
  {
   "cell_type": "code",
   "execution_count": 13,
   "metadata": {},
   "outputs": [
    {
     "name": "stdout",
     "output_type": "stream",
     "text": [
      "There are 9 stations.\n"
     ]
    }
   ],
   "source": [
    "# How many stations are there?\n",
    "stations = session.query(Station.station).count()\n",
    "print(f\"There are {stations} stations.\")"
   ]
  },
  {
   "cell_type": "code",
   "execution_count": 14,
   "metadata": {},
   "outputs": [
    {
     "name": "stderr",
     "output_type": "stream",
     "text": [
      "C:\\Users\\carte\\AppData\\Local\\conda\\conda\\envs\\SarahClassDev\\lib\\site-packages\\sqlalchemy\\sql\\compiler.py:763: SAWarning: Can't resolve label reference 'count DESC'; converting to text() (this warning may be suppressed after 10 occurrences)\n",
      "  util.ellipses_string(element.element),\n"
     ]
    },
    {
     "data": {
      "text/plain": [
       "[('USC00519281', 2772),\n",
       " ('USC00519397', 2724),\n",
       " ('USC00513117', 2709),\n",
       " ('USC00519523', 2669),\n",
       " ('USC00516128', 2612),\n",
       " ('USC00514830', 2202),\n",
       " ('USC00511918', 1979),\n",
       " ('USC00517948', 1372),\n",
       " ('USC00518838', 511)]"
      ]
     },
     "execution_count": 14,
     "metadata": {},
     "output_type": "execute_result"
    }
   ],
   "source": [
    "# What are the most active stations? List the stations and the counts in descending order.\n",
    "most_active = session.query(Measurement.station, func.count(Measurement.station).label('count')).\\\n",
    "            group_by(Measurement.station).\\\n",
    "            order_by('count DESC').all()\n",
    "most_active"
   ]
  },
  {
   "cell_type": "code",
   "execution_count": 15,
   "metadata": {
    "scrolled": true
   },
   "outputs": [
    {
     "name": "stdout",
     "output_type": "stream",
     "text": [
      "The busiest Station was USC00519281 with 2772 weather observations.\n"
     ]
    }
   ],
   "source": [
    "# What is the most active station?\n",
    "busiest = most_active[0][0]    \n",
    "print(f\"The busiest Station was {busiest} with {most_active[0][1]} weather observations.\")"
   ]
  },
  {
   "cell_type": "code",
   "execution_count": 16,
   "metadata": {},
   "outputs": [
    {
     "data": {
      "text/plain": [
       "[(54.0, 85.0, 71.66378066378067)]"
      ]
     },
     "execution_count": 16,
     "metadata": {},
     "output_type": "execute_result"
    }
   ],
   "source": [
    "# Using the station id from the previous query, calculate the lowest temperature recorded, \n",
    "# highest temperature recorded, and average temperature most active station?\n",
    "temp = [func.min(Measurement.tobs),\n",
    "       func.max(Measurement.tobs),\n",
    "       func.avg(Measurement.tobs)]\n",
    "session.query(*temp).filter(Measurement.station==busiest).all()"
   ]
  },
  {
   "cell_type": "code",
   "execution_count": 17,
   "metadata": {},
   "outputs": [
    {
     "data": {
      "text/html": [
       "<div>\n",
       "<style scoped>\n",
       "    .dataframe tbody tr th:only-of-type {\n",
       "        vertical-align: middle;\n",
       "    }\n",
       "\n",
       "    .dataframe tbody tr th {\n",
       "        vertical-align: top;\n",
       "    }\n",
       "\n",
       "    .dataframe thead th {\n",
       "        text-align: right;\n",
       "    }\n",
       "</style>\n",
       "<table border=\"1\" class=\"dataframe\">\n",
       "  <thead>\n",
       "    <tr style=\"text-align: right;\">\n",
       "      <th></th>\n",
       "      <th>station</th>\n",
       "      <th>date</th>\n",
       "      <th>tobs</th>\n",
       "    </tr>\n",
       "  </thead>\n",
       "  <tbody>\n",
       "    <tr>\n",
       "      <th>0</th>\n",
       "      <td>USC00519281</td>\n",
       "      <td>2016-08-24</td>\n",
       "      <td>77.0</td>\n",
       "    </tr>\n",
       "    <tr>\n",
       "      <th>1</th>\n",
       "      <td>USC00519281</td>\n",
       "      <td>2016-08-25</td>\n",
       "      <td>80.0</td>\n",
       "    </tr>\n",
       "    <tr>\n",
       "      <th>2</th>\n",
       "      <td>USC00519281</td>\n",
       "      <td>2016-08-26</td>\n",
       "      <td>80.0</td>\n",
       "    </tr>\n",
       "    <tr>\n",
       "      <th>3</th>\n",
       "      <td>USC00519281</td>\n",
       "      <td>2016-08-27</td>\n",
       "      <td>75.0</td>\n",
       "    </tr>\n",
       "    <tr>\n",
       "      <th>4</th>\n",
       "      <td>USC00519281</td>\n",
       "      <td>2016-08-28</td>\n",
       "      <td>73.0</td>\n",
       "    </tr>\n",
       "  </tbody>\n",
       "</table>\n",
       "</div>"
      ],
      "text/plain": [
       "       station        date  tobs\n",
       "0  USC00519281  2016-08-24  77.0\n",
       "1  USC00519281  2016-08-25  80.0\n",
       "2  USC00519281  2016-08-26  80.0\n",
       "3  USC00519281  2016-08-27  75.0\n",
       "4  USC00519281  2016-08-28  73.0"
      ]
     },
     "execution_count": 17,
     "metadata": {},
     "output_type": "execute_result"
    }
   ],
   "source": [
    "# Choose the station with the highest number of temperature observations.\n",
    "# Query the last 12 months of temperature observation data for this station and plot the results as a histogram\n",
    "temperature = session.query(Measurement.station, Measurement.date, Measurement.tobs).\\\n",
    "    filter(Measurement.station == busiest).\\\n",
    "    filter(Measurement.date > one_year_ago).\\\n",
    "    order_by(Measurement.date).all()\n",
    "temp_df = pd.DataFrame(temperature)\n",
    "temp_df.head()"
   ]
  },
  {
   "cell_type": "code",
   "execution_count": 71,
   "metadata": {},
   "outputs": [
    {
     "data": {
      "image/png": "[encoded data removed]",
      "text/plain": [
       "<Figure size 432x288 with 1 Axes>"
      ]
     },
     "metadata": {
      "needs_background": "light"
     },
     "output_type": "display_data"
    }
   ],
   "source": [
    "plt.hist(temp_df[\"tobs\"],12)\n",
    "plt.ylabel(\"Frequency\")\n",
    "plt.xlabel(\"Recorded Temperature (F)\")\n",
    "plt.title(\"Temperature Observations \\n (8/23/16 to 8/23/17)\")\n",
    "plt.show\n",
    "plt.savefig(\"Images/tobs.png\")"
   ]
  },
  {
   "cell_type": "markdown",
   "metadata": {},
   "source": [
    "---\n",
    "## Temperature Analysis\n",
    "* Write a function called calc_temps that will accept a start date and end date in the format %Y-%m-%d and return the minimum, average, and maximum temperatures for that range of dates.\n",
    "\n",
    "* Use the calc_temps function to calculate the min, avg, and max temperatures for your trip using the matching dates from the previous year (i.e. use \"2017-01-01\" if your trip start date was \"2018-01-01\")\n",
    "\n",
    "* Plot the min, avg, and max temperature from your previous query as a bar chart.\n",
    "\n",
    "* Use the average temperature as the bar height.\n",
    "\n",
    "* Use the peak-to-peak (tmax-tmin) value as the y error bar (yerr)."
   ]
  },
  {
   "cell_type": "code",
   "execution_count": 19,
   "metadata": {},
   "outputs": [
    {
     "name": "stdout",
     "output_type": "stream",
     "text": [
      "[(62.0, 69.57142857142857, 74.0)]\n"
     ]
    }
   ],
   "source": [
    "# This function called `calc_temps` accepts start and end dates in the format '%Y-%m-%d' \n",
    "# and returns the minimum, average, and maximum temperatures for that range of dates\n",
    "def calc_temps(start_date, end_date):\n",
    "    \"\"\"TMIN, TAVG, and TMAX for a list of dates.\n",
    "    \n",
    "    Args:\n",
    "        start_date (string): A date string in the format %Y-%m-%d\n",
    "        end_date (string): A date string in the format %Y-%m-%d\n",
    "        \n",
    "    Returns:\n",
    "        TMIN, TAVE, and TMAX\n",
    "    \"\"\"\n",
    "    \n",
    "    return session.query(func.min(Measurement.tobs), func.avg(Measurement.tobs), func.max(Measurement.tobs)).\\\n",
    "        filter(Measurement.date >= start_date).filter(Measurement.date <= end_date).all()\n",
    "\n",
    "# function usage example\n",
    "print(calc_temps('2012-02-28', '2012-03-05'))"
   ]
  },
  {
   "cell_type": "markdown",
   "metadata": {},
   "source": [
    "### Analyze temps for your trip\n",
    "Use the function `calc_temps` from above to calculate the tmin, tavg, and tmax for your trip using the previous year's data for those same dates.\n",
    "\n",
    "Note: I realized the dataset is older than one year prior from my \"planned\" trip date, so I will analyze the data from two years back."
   ]
  },
  {
   "cell_type": "code",
   "execution_count": 20,
   "metadata": {},
   "outputs": [
    {
     "name": "stdout",
     "output_type": "stream",
     "text": [
      "[(69.0, 75.15384615384616, 87.0)]\n"
     ]
    }
   ],
   "source": [
    "# Define my trip dates (going to Hawaii right after I complete this bootcamp)\n",
    "trip_start = dt.date(2019, 5, 20)\n",
    "trip_end = dt.date(2019, 5, 28)\n",
    "# compare to 2-years-ago-weather at this time of year\n",
    "comparison = dt.timedelta(days=730)\n",
    "last_year_avgs = (calc_temps((trip_start-comparison), (trip_end-comparison)))\n",
    "print(last_year_avgs)"
   ]
  },
  {
   "cell_type": "markdown",
   "metadata": {},
   "source": [
    "### Plot the results from your previous query.\n",
    "* Use \"Trip Avg Temp\" as your Title\n",
    "* Use the average temperature for the y value\n",
    "* Use the peak-to-peak (tmax-tmin) value as the y error bar (yerr)\n",
    "\n",
    "Note: The assignment asked for a bar chart but I find a box & whisker more effective, so I did that."
   ]
  },
  {
   "cell_type": "code",
   "execution_count": 73,
   "metadata": {},
   "outputs": [
    {
     "data": {
      "image/png": "[encoded data removed]",
      "text/plain": [
       "<Figure size 432x288 with 1 Axes>"
      ]
     },
     "metadata": {
      "needs_background": "light"
     },
     "output_type": "display_data"
    }
   ],
   "source": [
    "# charting\n",
    "plt.boxplot(last_year_avgs)\n",
    "plt.ylabel(\"Temp(F)\")\n",
    "plt.title(\"Trip Avg Temp\")\n",
    "plt.tight_layout()\n",
    "plt.savefig(\"Images/avg_temp_boxplot.png\")\n",
    "plt.show()"
   ]
  },
  {
   "cell_type": "markdown",
   "metadata": {},
   "source": [
    "---\n",
    "## Analyze the Rainfall for Your Trip\n",
    "Calculate the rainfall per weather station for your trip dates using the previous year's matching dates.\n",
    "Sort this in descending order by precipitation amount and list the station, name, latitude, longitude, and elevation\n",
    "\n"
   ]
  },
  {
   "cell_type": "code",
   "execution_count": 100,
   "metadata": {},
   "outputs": [],
   "source": [
    "# store comparison dates from 2 years prior to my trip\n",
    "comparison_start = (trip_start-comparison)\n",
    "comparison_end = (trip_end-comparison)"
   ]
  },
  {
   "cell_type": "code",
   "execution_count": 115,
   "metadata": {},
   "outputs": [
    {
     "name": "stdout",
     "output_type": "stream",
     "text": [
      "Historical Rainfall Per Weather Station \n",
      "My Trip Dates: 2019-05-20 to 2019-05-28\n",
      "Data Search Dates: 2017-05-20 to 2017-05-28\n",
      "-----------------------------------------------------------\n",
      "-----------------------------------------------------------\n",
      "Station: USC00516128\n",
      "    Rainfall:4.29\n",
      "    Location: MANOA LYON ARBO 785.2, HI US\n",
      "    Elevation:21.33\n",
      "    Latitude: -157.80\n",
      "    Longitude: 152.40\n",
      "-----------------------------------------------------------\n",
      "Station: USC00513117\n",
      "    Rainfall:1.28\n",
      "    Location: KANEOHE 838.1, HI US\n",
      "    Elevation:21.42\n",
      "    Latitude: -157.80\n",
      "    Longitude: 14.60\n",
      "-----------------------------------------------------------\n",
      "Station: USC00519523\n",
      "    Rainfall:1.16\n",
      "    Location: WAIMANALO EXPERIMENTAL FARM, HI US\n",
      "    Elevation:21.34\n",
      "    Latitude: -157.71\n",
      "    Longitude: 19.50\n",
      "-----------------------------------------------------------\n",
      "Station: USC00519281\n",
      "    Rainfall:0.73\n",
      "    Location: WAIHEE 837.5, HI US\n",
      "    Elevation:21.45\n",
      "    Latitude: -157.85\n",
      "    Longitude: 32.90\n",
      "-----------------------------------------------------------\n",
      "Station: USC00519397\n",
      "    Rainfall:0.39\n",
      "    Location: WAIKIKI 717.2, HI US\n",
      "    Elevation:21.27\n",
      "    Latitude: -157.82\n",
      "    Longitude: 3.00\n",
      "-----------------------------------------------------------\n",
      "Station: USC00514830\n",
      "    Rainfall:0.31\n",
      "    Location: KUALOA RANCH HEADQUARTERS 886.9, HI US\n",
      "    Elevation:21.52\n",
      "    Latitude: -157.84\n",
      "    Longitude: 7.00\n",
      "-----------------------------------------------------------\n"
     ]
    }
   ],
   "source": [
    "# query and subquery to get data from both sql tables\n",
    "q = session.query(Station.station,\n",
    "                  func.sum(Measurement.prcp),\n",
    "                  Station.name,                       \n",
    "                  Station.latitude,\n",
    "                  Station.longitude,\n",
    "                  Station.elevation)\\\n",
    ".filter(Measurement.station == Station.station)\\\n",
    ".filter(Measurement.date >= comparison_start)\\\n",
    ".filter(Measurement.date <= comparison_end)\\\n",
    ".group_by(Station.station)\\\n",
    ".order_by(func.sum(Measurement.prcp).desc())\n",
    "\n",
    "# read the results\n",
    "print (f\"Historical Rainfall Per Weather Station \\n\\\n",
    "My Trip Dates: {trip_start} to {trip_end}\\n\\\n",
    "Data Search Dates: {comparison_start} to {comparison_end}\")\n",
    "print(\"-----------------------------------------------------------\")\n",
    "print(\"-----------------------------------------------------------\")\n",
    "\n",
    "for row in q:\n",
    "    #---format---\n",
    "    rain=\"{0:.2f}\".format(row[1])\n",
    "    elev=\"{0:.2f}\".format(row[3])\n",
    "    lat=\"{0:.2f}\".format(row[4])\n",
    "    long=\"{0:.2f}\".format(row[5])\n",
    "    #---print---\n",
    "    print(f\"Station: {row[0]}\\n\\\n",
    "    Rainfall:{rain}\\n\\\n",
    "    Location: {row[2]}\\n\\\n",
    "    Elevation:{elev}\\n\\\n",
    "    Latitude: {lat}\\n\\\n",
    "    Longitude: {long}\")\n",
    "    print(\"-----------------------------------------------------------\")\n"
   ]
  },
  {
   "cell_type": "markdown",
   "metadata": {},
   "source": [
    "## Optional Challenge Assignment\n",
    "\n",
    "The following are optional challenge queries. These are recommended to attempt, but not required for the homework.\n",
    "\n",
    "* Calculate the rainfall per weather station using the previous year's matching dates.\n",
    "* Calculate the daily normals. Normals are the averages for min, avg, and max temperatures.\n",
    "\n",
    "* Create a function called `daily_normals` that will calculate the daily normals for a specific date. This date string will be in the format %m-%d. Be sure to use all historic tobs that match that date string.\n",
    "\n",
    "* Create a list of dates for your trip in the format %m-%d. Use the `daily_normals` function to calculate the normals for each date string and append the results to a list.\n",
    "\n",
    "* Load the list of daily normals into a Pandas DataFrame and set the index equal to the date.\n",
    "\n",
    "* Use Pandas to plot an area plot (stacked=False) for the daily normals."
   ]
  },
  {
   "cell_type": "code",
   "execution_count": 24,
   "metadata": {},
   "outputs": [
    {
     "data": {
      "text/plain": [
       "[(62.0, 69.15384615384616, 77.0)]"
      ]
     },
     "execution_count": 24,
     "metadata": {},
     "output_type": "execute_result"
    }
   ],
   "source": [
    "# Create a query that will calculate the daily normals \n",
    "# (i.e. the averages for tmin, tmax, and tavg for all historic data matching a specific month and day)\n",
    "\n",
    "def daily_normals(date):\n",
    "    \"\"\"Daily Normals.\n",
    "    \n",
    "    Args:\n",
    "        date (str): A date string in the format '%m-%d'\n",
    "        \n",
    "    Returns:\n",
    "        A list of tuples containing the daily normals, tmin, tavg, and tmax\n",
    "    \"\"\"\n",
    "    \n",
    "    sel = [func.min(Measurement.tobs), func.avg(Measurement.tobs), func.max(Measurement.tobs)]\n",
    "    return session.query(*sel).filter(func.strftime(\"%m-%d\", Measurement.date) == date).all()\n",
    "    \n",
    "daily_normals(\"01-01\")"
   ]
  },
  {
   "cell_type": "code",
   "execution_count": 26,
   "metadata": {},
   "outputs": [
    {
     "name": "stdout",
     "output_type": "stream",
     "text": [
      "2017-05-20\n",
      "2017-05-28\n"
     ]
    }
   ],
   "source": [
    "# print the trip variables of arrive and leave date for comparison year (2 years ago)\n",
    "print(comparison_start)\n",
    "print(comparison_end)"
   ]
  },
  {
   "cell_type": "code",
   "execution_count": 29,
   "metadata": {},
   "outputs": [],
   "source": [
    "# query the rain data from comparison year\n",
    "vacation_data = session.query(Measurement.station, Measurement.date, Measurement.prcp, Measurement.tobs).\\\n",
    "    filter(Measurement.date >= comparison_start).\\\n",
    "    filter(Measurement.date <= comparison_end).\\\n",
    "    order_by(Measurement.station).all()"
   ]
  },
  {
   "cell_type": "code",
   "execution_count": 30,
   "metadata": {},
   "outputs": [
    {
     "data": {
      "text/html": [
       "<div>\n",
       "<style scoped>\n",
       "    .dataframe tbody tr th:only-of-type {\n",
       "        vertical-align: middle;\n",
       "    }\n",
       "\n",
       "    .dataframe tbody tr th {\n",
       "        vertical-align: top;\n",
       "    }\n",
       "\n",
       "    .dataframe thead th {\n",
       "        text-align: right;\n",
       "    }\n",
       "</style>\n",
       "<table border=\"1\" class=\"dataframe\">\n",
       "  <thead>\n",
       "    <tr style=\"text-align: right;\">\n",
       "      <th></th>\n",
       "      <th>prcp</th>\n",
       "    </tr>\n",
       "    <tr>\n",
       "      <th>station</th>\n",
       "      <th></th>\n",
       "    </tr>\n",
       "  </thead>\n",
       "  <tbody>\n",
       "    <tr>\n",
       "      <th>USC00513117</th>\n",
       "      <td>1.28</td>\n",
       "    </tr>\n",
       "    <tr>\n",
       "      <th>USC00514830</th>\n",
       "      <td>0.31</td>\n",
       "    </tr>\n",
       "    <tr>\n",
       "      <th>USC00516128</th>\n",
       "      <td>4.29</td>\n",
       "    </tr>\n",
       "    <tr>\n",
       "      <th>USC00519281</th>\n",
       "      <td>0.73</td>\n",
       "    </tr>\n",
       "    <tr>\n",
       "      <th>USC00519397</th>\n",
       "      <td>0.39</td>\n",
       "    </tr>\n",
       "    <tr>\n",
       "      <th>USC00519523</th>\n",
       "      <td>1.16</td>\n",
       "    </tr>\n",
       "  </tbody>\n",
       "</table>\n",
       "</div>"
      ],
      "text/plain": [
       "             prcp\n",
       "station          \n",
       "USC00513117  1.28\n",
       "USC00514830  0.31\n",
       "USC00516128  4.29\n",
       "USC00519281  0.73\n",
       "USC00519397  0.39\n",
       "USC00519523  1.16"
      ]
     },
     "execution_count": 30,
     "metadata": {},
     "output_type": "execute_result"
    }
   ],
   "source": [
    "# load the query results into a dataframe with station as index\n",
    "vacation_df=pd.DataFrame(vacation_data)\n",
    "\n",
    "rain_per_station = pd.pivot_table(vacation_df,index=['station'],values=['prcp'], aggfunc=sum)\n",
    "rain_per_station"
   ]
  },
  {
   "cell_type": "code",
   "execution_count": 57,
   "metadata": {},
   "outputs": [
    {
     "data": {
      "text/plain": [
       "{'date': ['05-20',\n",
       "  '05-21',\n",
       "  '05-22',\n",
       "  '05-23',\n",
       "  '05-24',\n",
       "  '05-25',\n",
       "  '05-26',\n",
       "  '05-27',\n",
       "  '05-28'],\n",
       " 'tmin': [68.0, 64.0, 64.0, 68.0, 67.0, 68.0, 65.0, 65.0, 67.0],\n",
       " 'tmax': [73.89655172413794,\n",
       "  72.96428571428571,\n",
       "  74.45614035087719,\n",
       "  74.94827586206897,\n",
       "  73.94827586206897,\n",
       "  74.27586206896552,\n",
       "  74.03636363636363,\n",
       "  74.49090909090908,\n",
       "  74.27777777777777],\n",
       " 'tavg': [79.0, 80.0, 80.0, 87.0, 79.0, 79.0, 82.0, 80.0, 82.0]}"
      ]
     },
     "execution_count": 57,
     "metadata": {},
     "output_type": "execute_result"
    }
   ],
   "source": [
    "# calculate the daily normals for your trip\n",
    "\n",
    "# Set the start and end date of the trip\n",
    "comparison_start\n",
    "comparison_end\n",
    "\n",
    "# Use the start and end date to create a range of dates\n",
    "# Strip off the year and save a list of %m-%d strings\n",
    "trip_dates= pd.date_range(comparison_start, comparison_end, freq='D')\n",
    "trip_dates_dm = trip_dates.strftime(\"%m-%d\")\n",
    "trip_dates_dm\n",
    "\n",
    "#make lists to store data\n",
    "t_date = []\n",
    "t_min = []\n",
    "t_max = []\n",
    "t_avg = []\n",
    "# Loop through the list of %m-%d strings and calculate the normals for each date\n",
    "for d in trip_dates_dm:\n",
    "    t_date.append(d)\n",
    "    t_min.append(daily_normals(d)[0][0])\n",
    "    t_max.append(daily_normals(d)[0][1])\n",
    "    t_avg.append(daily_normals(d)[0][2])\n",
    "\n",
    "#make dict to store looped data\n",
    "normals_dict = {\"date\": t_date,\n",
    "               \"tmin\": t_min,\n",
    "               \"tmax\": t_max,\n",
    "               \"tavg\": t_avg}\n",
    "normals_dict"
   ]
  },
  {
   "cell_type": "code",
   "execution_count": 58,
   "metadata": {},
   "outputs": [
    {
     "data": {
      "text/html": [
       "<div>\n",
       "<style scoped>\n",
       "    .dataframe tbody tr th:only-of-type {\n",
       "        vertical-align: middle;\n",
       "    }\n",
       "\n",
       "    .dataframe tbody tr th {\n",
       "        vertical-align: top;\n",
       "    }\n",
       "\n",
       "    .dataframe thead th {\n",
       "        text-align: right;\n",
       "    }\n",
       "</style>\n",
       "<table border=\"1\" class=\"dataframe\">\n",
       "  <thead>\n",
       "    <tr style=\"text-align: right;\">\n",
       "      <th></th>\n",
       "      <th>tmin</th>\n",
       "      <th>tmax</th>\n",
       "      <th>tavg</th>\n",
       "    </tr>\n",
       "    <tr>\n",
       "      <th>date</th>\n",
       "      <th></th>\n",
       "      <th></th>\n",
       "      <th></th>\n",
       "    </tr>\n",
       "  </thead>\n",
       "  <tbody>\n",
       "    <tr>\n",
       "      <th>05-20</th>\n",
       "      <td>68.0</td>\n",
       "      <td>73.896552</td>\n",
       "      <td>79.0</td>\n",
       "    </tr>\n",
       "    <tr>\n",
       "      <th>05-21</th>\n",
       "      <td>64.0</td>\n",
       "      <td>72.964286</td>\n",
       "      <td>80.0</td>\n",
       "    </tr>\n",
       "    <tr>\n",
       "      <th>05-22</th>\n",
       "      <td>64.0</td>\n",
       "      <td>74.456140</td>\n",
       "      <td>80.0</td>\n",
       "    </tr>\n",
       "    <tr>\n",
       "      <th>05-23</th>\n",
       "      <td>68.0</td>\n",
       "      <td>74.948276</td>\n",
       "      <td>87.0</td>\n",
       "    </tr>\n",
       "    <tr>\n",
       "      <th>05-24</th>\n",
       "      <td>67.0</td>\n",
       "      <td>73.948276</td>\n",
       "      <td>79.0</td>\n",
       "    </tr>\n",
       "    <tr>\n",
       "      <th>05-25</th>\n",
       "      <td>68.0</td>\n",
       "      <td>74.275862</td>\n",
       "      <td>79.0</td>\n",
       "    </tr>\n",
       "    <tr>\n",
       "      <th>05-26</th>\n",
       "      <td>65.0</td>\n",
       "      <td>74.036364</td>\n",
       "      <td>82.0</td>\n",
       "    </tr>\n",
       "    <tr>\n",
       "      <th>05-27</th>\n",
       "      <td>65.0</td>\n",
       "      <td>74.490909</td>\n",
       "      <td>80.0</td>\n",
       "    </tr>\n",
       "    <tr>\n",
       "      <th>05-28</th>\n",
       "      <td>67.0</td>\n",
       "      <td>74.277778</td>\n",
       "      <td>82.0</td>\n",
       "    </tr>\n",
       "  </tbody>\n",
       "</table>\n",
       "</div>"
      ],
      "text/plain": [
       "       tmin       tmax  tavg\n",
       "date                        \n",
       "05-20  68.0  73.896552  79.0\n",
       "05-21  64.0  72.964286  80.0\n",
       "05-22  64.0  74.456140  80.0\n",
       "05-23  68.0  74.948276  87.0\n",
       "05-24  67.0  73.948276  79.0\n",
       "05-25  68.0  74.275862  79.0\n",
       "05-26  65.0  74.036364  82.0\n",
       "05-27  65.0  74.490909  80.0\n",
       "05-28  67.0  74.277778  82.0"
      ]
     },
     "execution_count": 58,
     "metadata": {},
     "output_type": "execute_result"
    }
   ],
   "source": [
    "# Load the previous query results into a Pandas DataFrame and add the `trip_dates` range as the `date` index\n",
    "normals_df = pd.DataFrame(normals_dict)\n",
    "normals_df = normals_df.set_index('date')\n",
    "normals_df"
   ]
  },
  {
   "cell_type": "code",
   "execution_count": 69,
   "metadata": {
    "scrolled": true
   },
   "outputs": [
    {
     "data": {
      "image/png": "[encoded data removed]",
      "text/plain": [
       "<Figure size 432x288 with 1 Axes>"
      ]
     },
     "metadata": {
      "needs_background": "light"
     },
     "output_type": "display_data"
    }
   ],
   "source": [
    "# Plot the daily normals as an area plot with `stacked=False`\n",
    "normals_df.plot(kind='area', stacked='false', alpha=.7)\n",
    "plt.xlabel(\"Date\")\n",
    "plt.ylabel(\"Temperature (F)\")\n",
    "plt.title(\"Hawaii Trip Daily Normals\")\n",
    "plt.savefig(\"Images/daily_normals.png\")"
   ]
  },
  {
   "cell_type": "markdown",
   "metadata": {},
   "source": [
    "---\n",
    "### YOU'VE REACHED THE END!!\n",
    "---"
   ]
  }
 ],
 "metadata": {
  "kernel_info": {
   "name": "python3"
  },
  "kernelspec": {
   "display_name": "Python 3",
   "language": "python",
   "name": "python3"
  },
  "language_info": {
   "codemirror_mode": {
    "name": "ipython",
    "version": 3
   },
   "file_extension": ".py",
   "mimetype": "text/x-python",
   "name": "python",
   "nbconvert_exporter": "python",
   "pygments_lexer": "ipython3",
   "version": "3.6.7"
  },
  "nteract": {
   "version": "0.9.1"
  },
  "varInspector": {
   "cols": {
    "lenName": 16,
    "lenType": 16,
    "lenVar": 40
   },
   "kernels_config": {
    "python": {
     "delete_cmd_postfix": "",
     "delete_cmd_prefix": "del ",
     "library": "var_list.py",
     "varRefreshCmd": "print(var_dic_list())"
    },
    "r": {
     "delete_cmd_postfix": ") ",
     "delete_cmd_prefix": "rm(",
     "library": "var_list.r",
     "varRefreshCmd": "cat(var_dic_list()) "
    }
   },
   "types_to_exclude": [
    "module",
    "function",
    "builtin_function_or_method",
    "instance",
    "_Feature"
   ],
   "window_display": false
  }
 },
 "nbformat": 4,
 "nbformat_minor": 2
}
