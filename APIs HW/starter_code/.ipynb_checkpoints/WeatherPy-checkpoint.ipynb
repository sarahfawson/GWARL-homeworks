{
 "cells": [
  {
   "cell_type": "markdown",
   "metadata": {},
   "source": [
    "# WeatherPy\n",
    "----\n",
    "\n",
    "### Analysis\n",
    "* As expected, the weather becomes significantly warmer as one approaches the equator (0 Deg. Latitude). More interestingly, however, is the fact that the southern hemisphere tends to be warmer this time of year than the northern hemisphere. This may be due to the tilt of the earth.\n",
    "* There is no strong relationship between latitude and cloudiness. However, it is interesting to see that a strong band of cities sits at 0, 80, and 100% cloudiness.\n",
    "* There is no strong relationship between latitude and wind speed. However, in northern hemispheres there is a flurry of cities with over 20 mph of wind.\n",
    "\n",
    "---"
   ]
  },
  {
   "cell_type": "code",
   "execution_count": 1,
   "metadata": {
    "scrolled": true
   },
   "outputs": [],
   "source": [
    "# Dependencies and Setup\n",
    "import matplotlib.pyplot as plt\n",
    "import pandas as pd\n",
    "import numpy as np\n",
    "import requests\n",
    "import time\n",
    "import os\n",
    "import csv\n",
    "from citipy import citipy\n",
    "\n",
    "# Import API key\n",
    "import sys\n",
    "sys.path.append('../../../..')\n",
    "from api_keys import api_key\n",
    "\n",
    "# Output File (CSV)\n",
    "output_data_file = \"../Output/cities.csv\"\n",
    "\n",
    "# Range of latitudes and longitudes\n",
    "lat_range = (-90, 90)\n",
    "lng_range = (-180, 180)"
   ]
  },
  {
   "cell_type": "markdown",
   "metadata": {},
   "source": [
    "## Generate Cities List"
   ]
  },
  {
   "cell_type": "code",
   "execution_count": 2,
   "metadata": {},
   "outputs": [
    {
     "data": {
      "text/plain": [
       "612"
      ]
     },
     "execution_count": 2,
     "metadata": {},
     "output_type": "execute_result"
    }
   ],
   "source": [
    "# List for holding lat_lngs and cities\n",
    "lat_lngs = []\n",
    "cities = []\n",
    "\n",
    "# Create a set of random lat and lng combinations\n",
    "lats = np.random.uniform(low=-90.000, high=90.000, size=1500)\n",
    "lngs = np.random.uniform(low=-180.000, high=180.000, size=1500)\n",
    "lat_lngs = zip(lats, lngs)\n",
    "\n",
    "# Identify nearest city for each lat, lng combination\n",
    "for lat_lng in lat_lngs:\n",
    "    city = citipy.nearest_city(lat_lng[0], lat_lng[1]).city_name\n",
    "    \n",
    "    # If the city is unique, then add it to a our cities list\n",
    "    if city not in cities:\n",
    "        cities.append(city)\n",
    "\n",
    "# Print the city count to confirm sufficient count\n",
    "len(cities)"
   ]
  },
  {
   "cell_type": "markdown",
   "metadata": {},
   "source": [
    "### Perform API Calls\n",
    "* Perform a weather check on each city using a series of successive API calls.\n",
    "* Include a print log of each city as it's being processed (with the city number and city name).\n"
   ]
  },
  {
   "cell_type": "code",
   "execution_count": 10,
   "metadata": {},
   "outputs": [
    {
     "name": "stdout",
     "output_type": "stream",
     "text": [
      "Beginning Data Retrieval\n",
      "----------------------\n",
      "Processing Record 1 | ushuaia\n",
      "http://api.openweathermap.org/data/2.5/weather?appid=7a8b0fc8449617d86f9112108d8ddb7d&units=imperial&q=ushuaia\n",
      "----------------------\n",
      "Processing Record 2 | alofi\n",
      "http://api.openweathermap.org/data/2.5/weather?appid=7a8b0fc8449617d86f9112108d8ddb7d&units=imperial&q=alofi\n",
      "----------------------\n",
      "Processing Record 3 | hermanus\n",
      "http://api.openweathermap.org/data/2.5/weather?appid=7a8b0fc8449617d86f9112108d8ddb7d&units=imperial&q=hermanus\n",
      "----------------------\n",
      "Processing Record 4 | atuona\n",
      "http://api.openweathermap.org/data/2.5/weather?appid=7a8b0fc8449617d86f9112108d8ddb7d&units=imperial&q=atuona\n",
      "----------------------\n",
      "Processing Record 5 | faanui\n",
      "http://api.openweathermap.org/data/2.5/weather?appid=7a8b0fc8449617d86f9112108d8ddb7d&units=imperial&q=faanui\n",
      "----------------------\n",
      "Processing Record 6 | lata\n",
      "http://api.openweathermap.org/data/2.5/weather?appid=7a8b0fc8449617d86f9112108d8ddb7d&units=imperial&q=lata\n",
      "----------------------\n",
      "Processing Record 7 | cape town\n",
      "http://api.openweathermap.org/data/2.5/weather?appid=7a8b0fc8449617d86f9112108d8ddb7d&units=imperial&q=cape%20town\n",
      "----------------------\n",
      "Processing Record 8 | moscow\n",
      "http://api.openweathermap.org/data/2.5/weather?appid=7a8b0fc8449617d86f9112108d8ddb7d&units=imperial&q=moscow\n",
      "----------------------\n",
      "Processing Record 9 | linqiong\n",
      "http://api.openweathermap.org/data/2.5/weather?appid=7a8b0fc8449617d86f9112108d8ddb7d&units=imperial&q=linqiong\n",
      "----------------------\n",
      "Processing Record 10 | chokurdakh\n",
      "http://api.openweathermap.org/data/2.5/weather?appid=7a8b0fc8449617d86f9112108d8ddb7d&units=imperial&q=chokurdakh\n",
      "----------------------\n",
      "Processing Record 11 | albany\n",
      "http://api.openweathermap.org/data/2.5/weather?appid=7a8b0fc8449617d86f9112108d8ddb7d&units=imperial&q=albany\n",
      "----------------------\n",
      "Processing Record 12 | busselton\n",
      "http://api.openweathermap.org/data/2.5/weather?appid=7a8b0fc8449617d86f9112108d8ddb7d&units=imperial&q=busselton\n",
      "----------------------\n",
      "Processing Record 13 | mao\n",
      "http://api.openweathermap.org/data/2.5/weather?appid=7a8b0fc8449617d86f9112108d8ddb7d&units=imperial&q=mao\n",
      "----------------------\n",
      "Processing Record 14 | lebu\n",
      "http://api.openweathermap.org/data/2.5/weather?appid=7a8b0fc8449617d86f9112108d8ddb7d&units=imperial&q=lebu\n",
      "----------------------\n",
      "Processing Record 15 | limulunga\n",
      "http://api.openweathermap.org/data/2.5/weather?appid=7a8b0fc8449617d86f9112108d8ddb7d&units=imperial&q=limulunga\n",
      "----------------------\n",
      "Processing Record 16 | miri\n",
      "http://api.openweathermap.org/data/2.5/weather?appid=7a8b0fc8449617d86f9112108d8ddb7d&units=imperial&q=miri\n",
      "----------------------\n",
      "Processing Record 17 | leningradskiy\n",
      "http://api.openweathermap.org/data/2.5/weather?appid=7a8b0fc8449617d86f9112108d8ddb7d&units=imperial&q=leningradskiy\n",
      "----------------------\n",
      "Processing Record 18 | rikitea\n",
      "http://api.openweathermap.org/data/2.5/weather?appid=7a8b0fc8449617d86f9112108d8ddb7d&units=imperial&q=rikitea\n",
      "----------------------\n",
      "Processing Record 19 | henties bay\n",
      "http://api.openweathermap.org/data/2.5/weather?appid=7a8b0fc8449617d86f9112108d8ddb7d&units=imperial&q=henties%20bay\n",
      "----------------------\n",
      "Processing Record 20 | kruisfontein\n",
      "http://api.openweathermap.org/data/2.5/weather?appid=7a8b0fc8449617d86f9112108d8ddb7d&units=imperial&q=kruisfontein\n",
      "----------------------\n",
      "Processing Record 21 | robertsport\n",
      "http://api.openweathermap.org/data/2.5/weather?appid=7a8b0fc8449617d86f9112108d8ddb7d&units=imperial&q=robertsport\n",
      "----------------------\n",
      "Processing Record 22 | inta\n",
      "http://api.openweathermap.org/data/2.5/weather?appid=7a8b0fc8449617d86f9112108d8ddb7d&units=imperial&q=inta\n",
      "----------------------\n",
      "Processing Record 23 | east london\n",
      "http://api.openweathermap.org/data/2.5/weather?appid=7a8b0fc8449617d86f9112108d8ddb7d&units=imperial&q=east%20london\n",
      "----------------------\n",
      "Processing Record 24 | asau\n",
      "http://api.openweathermap.org/data/2.5/weather?appid=7a8b0fc8449617d86f9112108d8ddb7d&units=imperial&q=asau\n"
     ]
    },
    {
     "ename": "AttributeError",
     "evalue": "'NoneType' object has no attribute 'get'",
     "output_type": "error",
     "traceback": [
      "\u001b[1;31m---------------------------------------------------------------------------\u001b[0m",
      "\u001b[1;31mAttributeError\u001b[0m                            Traceback (most recent call last)",
      "\u001b[1;32m<ipython-input-10-aea282d58830>\u001b[0m in \u001b[0;36m<module>\u001b[1;34m()\u001b[0m\n\u001b[0;32m     34\u001b[0m \u001b[1;33m\u001b[0m\u001b[0m\n\u001b[0;32m     35\u001b[0m     \u001b[0mcity_data\u001b[0m \u001b[1;33m=\u001b[0m \u001b[0mresponse\u001b[0m\u001b[1;33m.\u001b[0m\u001b[0mget\u001b[0m\u001b[1;33m(\u001b[0m\u001b[1;34m\"name\"\u001b[0m\u001b[1;33m)\u001b[0m\u001b[1;33m\u001b[0m\u001b[0m\n\u001b[1;32m---> 36\u001b[1;33m     \u001b[0mcloudiness_data\u001b[0m \u001b[1;33m=\u001b[0m \u001b[0mresponse\u001b[0m\u001b[1;33m.\u001b[0m\u001b[0mget\u001b[0m\u001b[1;33m(\u001b[0m\u001b[1;34m\"clouds\"\u001b[0m\u001b[1;33m)\u001b[0m\u001b[1;33m.\u001b[0m\u001b[0mget\u001b[0m\u001b[1;33m(\u001b[0m\u001b[1;34m\"all\"\u001b[0m\u001b[1;33m)\u001b[0m\u001b[1;33m\u001b[0m\u001b[0m\n\u001b[0m\u001b[0;32m     37\u001b[0m     \u001b[0mcountry_data\u001b[0m \u001b[1;33m=\u001b[0m \u001b[0mresponse\u001b[0m\u001b[1;33m.\u001b[0m\u001b[0mget\u001b[0m\u001b[1;33m(\u001b[0m\u001b[1;34m\"sys\"\u001b[0m\u001b[1;33m)\u001b[0m\u001b[1;33m.\u001b[0m\u001b[0mget\u001b[0m\u001b[1;33m(\u001b[0m\u001b[1;34m\"country\"\u001b[0m\u001b[1;33m)\u001b[0m\u001b[1;33m\u001b[0m\u001b[0m\n\u001b[0;32m     38\u001b[0m     \u001b[0mdate_data\u001b[0m \u001b[1;33m=\u001b[0m \u001b[0mresponse\u001b[0m\u001b[1;33m.\u001b[0m\u001b[0mget\u001b[0m\u001b[1;33m(\u001b[0m\u001b[1;34m\"dt\"\u001b[0m\u001b[1;33m)\u001b[0m\u001b[1;33m\u001b[0m\u001b[0m\n",
      "\u001b[1;31mAttributeError\u001b[0m: 'NoneType' object has no attribute 'get'"
     ]
    }
   ],
   "source": [
    "# start api call\n",
    "base_url = \"http://api.openweathermap.org/data/2.5/weather?\"\n",
    "units = \"imperial\"\n",
    "query_url = f\"{base_url}appid={api_key}&units={units}&q=\"\n",
    "# query_url = f\"{base_url}appid={api_key}&units={units}&lat={lat}&lon={lon}\"\n",
    "\n",
    "# params = \n",
    "# city_data = []\n",
    "# cloudiness_data = []\n",
    "# country_data = []\n",
    "# date_data = []\n",
    "# humidity_data = []\n",
    "# lat_data = []\n",
    "# lon_data = []\n",
    "# max_temp_data = []\n",
    "# wind_speed_data = []\n",
    "\n",
    "print(\"Beginning Data Retrieval\")\n",
    "counter = 0\n",
    "\n",
    "\n",
    "# prep csv file for writing\n",
    "for city in cities:   \n",
    "#     try:\n",
    "    counter += 1\n",
    "    if counter % 55 == 0:\n",
    "        time.sleep(60)\n",
    "\n",
    "    print(\"----------------------\")\n",
    "    print(\"Processing Record \" + str(counter) + \" | \" + city)\n",
    "    city = city.replace(\" \",\"%20\")\n",
    "    print(query_url + city)\n",
    "    response = requests.get(query_url + city).json()\n",
    "        # do I exception handle here?\n",
    "    city_data = response.get(\"name\")\n",
    "    cloudiness_data = response.get(\"clouds\").get(\"all\")\n",
    "    country_data = response.get(\"sys\").get(\"country\")\n",
    "    date_data = response.get(\"dt\")\n",
    "    humidity_data = response.get(\"main\").get(\"humidity\")\n",
    "    lat_data = response.get(\"coord\").get(\"lat\")\n",
    "    lon_data = response.get(\"coord\").get(\"lon\")\n",
    "    max_temp_data = response.get(\"main\").get(\"temp_max\")\n",
    "    wind_speed_data = response.get(\"wind\").get(\"speed\")\n",
    "   \n",
    "    # Specify the file to write to\n",
    "    output_data_file = os.path.join(\"cities.csv\")\n",
    "\n",
    "        # Write the findings into the csv from dict\n",
    "    with open(output_data_file, mode='w', newline='') as csvfile:\n",
    "        fieldnames = [\"city_data\", \"cloudiness_data\", \"country_data\", \"date_data\", \"humidity_data\", \"lat_data\", \"lon_data\", \"max_temp_data\", \"wind_speed_data\"]\n",
    "        csvwriter = csv.DictWriter(csvfile, delimiter=',',fieldnames=fieldnames)\n",
    "        csvwriter.writeheader()\n",
    "#         csvwriter.writerow({\"city_data\": response.get(\"name\"),\n",
    "#                     \"cloudiness_data\": response.get(\"clouds\").get(\"all\"),\n",
    "#                     \"country_data\": response.get(\"sys\").get(\"country\"),\n",
    "#                     \"date_data\": response.get(\"dt\"),\n",
    "#                     \"humidity_data\": response.get(\"main\").get(\"humidity\"),\n",
    "#                     \"lat_data\": response.get(\"coord\").get(\"lat\"),\n",
    "#                     \"lon_data\": response.get(\"coord\").get(\"lon\"),\n",
    "#                     \"max_temp_data\": response.get(\"main\").get(\"temp_max\"),\n",
    "#                     \"wind_speed_data\": response.get(\"wind\").get(\"speed\")\n",
    "#                      })\n",
    "        csvwriter.writerow({\"city_data\": city_data,\n",
    "                    \"cloudiness_data\": cloudiness_data,\n",
    "                    \"country_data\": country_data,\n",
    "                    \"date_data\": date_data,\n",
    "                    \"humidity_data\": humidity_data,\n",
    "                    \"lat_data\": lat_data,\n",
    "                    \"lon_data\": lon_data,\n",
    "                    \"max_temp_data\": max_temp_data,\n",
    "                    \"wind_speed_data\": wind_speed_data\n",
    "                     })\n",
    "#         city_data.append(response.get(\"name\"))\n",
    "#         cloudiness_data.append(response.get(\"clouds\").get(\"all\"))\n",
    "#         country_data.append(response.get(\"sys\").get(\"country\"))\n",
    "#         date_data.append(response.get(\"dt\"))\n",
    "#         humidity_data.append(response.get(\"main\").get(\"humidity\"))\n",
    "#         lat_data.append(response.get(\"coord\").get(\"lat\"))\n",
    "#         lon_data.append(response.get(\"coord\").get(\"lon\"))\n",
    "#         max_temp_data.append(response.get(\"main\").get(\"temp_max\"))\n",
    "#         wind_speed_data.append(response.get(\"wind\").get(\"speed\"))\n",
    "\n",
    "#     except:\n",
    "#         print(\"City not found. Skipping...\")\n",
    "\n",
    "print(\"-------------------------\")\n",
    "print(\"Data Retrieval Complete\")\n",
    "print(\"-------------------------\")\n"
   ]
  },
  {
   "cell_type": "code",
   "execution_count": null,
   "metadata": {},
   "outputs": [],
   "source": []
  },
  {
   "cell_type": "markdown",
   "metadata": {},
   "source": [
    "### Convert Raw Data to DataFrame"
   ]
  },
  {
   "cell_type": "code",
   "execution_count": null,
   "metadata": {},
   "outputs": [],
   "source": [
    "weather_data = {\"City\" : city_data,\n",
    "                \"Cloudiness\": cloudiness_data,\n",
    "                \"Country\": country_data,\n",
    "                \"Date\": date_data,\n",
    "                \"Humidity\": humidity_data,\n",
    "                \"Lat\": lat_data,\n",
    "                \"Lng\": lon_data,\n",
    "                \"Max Temp\": max_temp_data,\n",
    "                \"Wind Speed\": wind_speed_data,\n",
    "                }\n",
    "\n",
    "weather_data = pd.DataFrame(weather_data)\n",
    "weather_data.count()"
   ]
  },
  {
   "cell_type": "code",
   "execution_count": null,
   "metadata": {},
   "outputs": [],
   "source": [
    "# find weather values for your random list of cities\n",
    "# random_df = np.random(weather_data)\n",
    "# random_data.head()"
   ]
  },
  {
   "cell_type": "markdown",
   "metadata": {},
   "source": [
    "### Plotting the Data\n",
    "* Use proper labeling of the plots using plot titles (including date of analysis) and axes labels.\n",
    "* Save the plotted figures as .pngs."
   ]
  },
  {
   "cell_type": "markdown",
   "metadata": {},
   "source": [
    "#### Latitude vs. Temperature Plot"
   ]
  },
  {
   "cell_type": "code",
   "execution_count": null,
   "metadata": {},
   "outputs": [],
   "source": [
    "#format date for plot titles\n",
    "date_stamp = str(weather_data.iloc[0,3])\n",
    "date_stamp = datetime.datetime.fromtimestamp(int(date_stamp)).strftime('%m-%d-%Y')\n",
    "\n",
    "# Build a scatter plot for each data type\n",
    "plt.scatter(weather_data[\"Lat\"], weather_data[\"Max Temp\"], marker=\"o\")\n",
    "\n",
    "# Incorporate the other graph properties\n",
    "plt.title(\"City Latitude vs. Max Temperature \" + date_stamp)\n",
    "plt.ylabel(\"Max Temperature (F)\")\n",
    "plt.xlabel(\"Latitude\")\n",
    "plt.grid(True)\n",
    "\n",
    "# Save fig\n",
    "plt.savefig(../Output/\"CityLat_vs_Max_Temp.png\")\n",
    "\n",
    "plt.show()"
   ]
  },
  {
   "cell_type": "markdown",
   "metadata": {},
   "source": [
    "#### Latitude vs. Humidity Plot"
   ]
  },
  {
   "cell_type": "code",
   "execution_count": null,
   "metadata": {},
   "outputs": [],
   "source": [
    "plt.scatter(weather_data[\"Lat\"], weather_data[\"Humidity\"], marker=\"o\")\n",
    "plt.title(\"City Latitude vs. Humidity \" + date_stamp)\n",
    "plt.ylabel(\"Humidity (%)\")\n",
    "plt.xlabel(\"Latitude\")\n",
    "plt.grid(True)\n",
    "\n",
    "# Save fig\n",
    "plt.savefig(../Output/\"CityLat_vs_Humidity.png\")\n",
    "\n",
    "plt.show()"
   ]
  },
  {
   "cell_type": "markdown",
   "metadata": {},
   "source": [
    "#### Latitude vs. Cloudiness Plot"
   ]
  },
  {
   "cell_type": "code",
   "execution_count": null,
   "metadata": {},
   "outputs": [],
   "source": [
    "plt.scatter(weather_data[\"Lat\"], weather_data[\"Cloudiness\"], marker=\"o\")\n",
    "plt.title(\"City Latitude vs. Cloudiness \" + date_stamp)\n",
    "plt.ylabel(\"Cloudiness (%)\")\n",
    "plt.xlabel(\"Latitude\")\n",
    "plt.grid(True)\n",
    "\n",
    "# Save fig\n",
    "plt.savefig(../Output/\"CityLat_vs_Cloudiness.png\")\n",
    "\n",
    "plt.show()"
   ]
  },
  {
   "cell_type": "markdown",
   "metadata": {},
   "source": [
    "#### Latitude vs. Wind Speed Plot"
   ]
  },
  {
   "cell_type": "code",
   "execution_count": null,
   "metadata": {},
   "outputs": [],
   "source": [
    "plt.scatter(weather_data[\"Lat\"], weather_data[\"Wind Speed\"], marker=\"o\")\n",
    "plt.title(\"City Latitude vs. Wind Speed \" + date_stamp)\n",
    "plt.ylabel(\"Wind Speed (mph)\")\n",
    "plt.xlabel(\"Latitude\")\n",
    "plt.grid(True)\n",
    "\n",
    "# Save fig\n",
    "plt.savefig(../Output/\"CityLat_vs_Wind_Speed.png\")\n",
    "\n",
    "plt.show()"
   ]
  },
  {
   "cell_type": "code",
   "execution_count": null,
   "metadata": {},
   "outputs": [],
   "source": []
  }
 ],
 "metadata": {
  "anaconda-cloud": {},
  "kernelspec": {
   "display_name": "Python 3",
   "language": "python",
   "name": "python3"
  },
  "language_info": {
   "codemirror_mode": {
    "name": "ipython",
    "version": 3
   },
   "file_extension": ".py",
   "mimetype": "text/x-python",
   "name": "python",
   "nbconvert_exporter": "python",
   "pygments_lexer": "ipython3",
   "version": "3.6.5"
  }
 },
 "nbformat": 4,
 "nbformat_minor": 2
}
